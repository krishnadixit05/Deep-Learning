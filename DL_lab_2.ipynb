{
  "cells": [
    {
      "cell_type": "markdown",
      "metadata": {
        "id": "view-in-github",
        "colab_type": "text"
      },
      "source": [
        "<a href=\"https://colab.research.google.com/github/krishnadixit05/Deep-Learning/blob/main/DL_lab_2.ipynb\" target=\"_parent\"><img src=\"https://colab.research.google.com/assets/colab-badge.svg\" alt=\"Open In Colab\"/></a>"
      ]
    },
    {
      "cell_type": "code",
      "execution_count": null,
      "metadata": {
        "id": "BKG4x-KT1gmM"
      },
      "outputs": [],
      "source": [
        "pip install torch torchvision"
      ]
    },
    {
      "cell_type": "code",
      "execution_count": null,
      "metadata": {
        "id": "ugN6ehLK15EU"
      },
      "outputs": [],
      "source": [
        "import torch\n",
        "import torchvision\n",
        "import matplotlib.pyplot as plt\n",
        "import numpy as np\n",
        "\n",
        "#Initializing normalizing transform for the dataset\n",
        "normalize_transform = torchvision.transforms.Compose([\n",
        "\ttorchvision.transforms.ToTensor(),\n",
        "\ttorchvision.transforms.Normalize(mean = (0.5, 0.5, 0.5),\n",
        "\t\t\t\t\t\t\t\t\tstd = (0.5, 0.5, 0.5))])\n",
        "\n",
        "#Downloading the CIFAR10 dataset into train and test sets\n",
        "train_dataset = torchvision.datasets.CIFAR10(\n",
        "\troot=\"./CIFAR10/train\", train=True,\n",
        "\ttransform=normalize_transform,\n",
        "\tdownload=True)\n",
        "\n",
        "test_dataset = torchvision.datasets.CIFAR10(\n",
        "\troot=\"./CIFAR10/test\", train=False,\n",
        "\ttransform=normalize_transform,\n",
        "\tdownload=True)\n",
        "\n",
        "#Generating data loaders from the corresponding datasets\n",
        "batch_size = 128\n",
        "train_loader = torch.utils.data.DataLoader(train_dataset, batch_size=batch_size)\n",
        "test_loader = torch.utils.data.DataLoader(test_dataset, batch_size=batch_size)"
      ]
    },
    {
      "cell_type": "code",
      "execution_count": null,
      "metadata": {
        "id": "wTwIj4Oc1-Ia"
      },
      "outputs": [],
      "source": [
        "class CNN(torch.nn.Module):\n",
        "\tdef __init__(self):\n",
        "\t\tsuper().__init__()\n",
        "\t\tself.model = torch.nn.Sequential(\n",
        "\t\t\t#Input = 3 x 32 x 32, Output = 32 x 32 x 32\n",
        "\t\t\ttorch.nn.Conv2d(in_channels = 3, out_channels = 32, kernel_size = 3, padding = 1),\n",
        "\t\t\ttorch.nn.ReLU(),\n",
        "\t\t\t#Input = 32 x 32 x 32, Output = 32 x 16 x 16\n",
        "\t\t\ttorch.nn.MaxPool2d(kernel_size=2),\n",
        "\n",
        "\t\t\t#Input = 32 x 16 x 16, Output = 64 x 16 x 16\n",
        "\t\t\ttorch.nn.Conv2d(in_channels = 32, out_channels = 64, kernel_size = 3, padding = 1),\n",
        "\t\t\ttorch.nn.ReLU(),\n",
        "\t\t\t#Input = 64 x 16 x 16, Output = 64 x 8 x 8\n",
        "\t\t\ttorch.nn.MaxPool2d(kernel_size=2),\n",
        "\n",
        "\t\t\t#Input = 64 x 8 x 8, Output = 64 x 8 x 8\n",
        "\t\t\ttorch.nn.Conv2d(in_channels = 64, out_channels = 128, kernel_size = 3, padding = 1),\n",
        "\t\t\ttorch.nn.ReLU(),\n",
        "\t\t\t#Input = 64 x 8 x 8, Output = 64 x 4 x 4\n",
        "\t\t\ttorch.nn.MaxPool2d(kernel_size=2),\n",
        "\n",
        "\t\t\ttorch.nn.Flatten(),\n",
        "\t\t\ttorch.nn.Linear(128*4*4, 1024),\n",
        "\t\t\ttorch.nn.ReLU(),\n",
        "\t\t\ttorch.nn.Linear(1024, 10)\n",
        "\t\t)\n",
        "\n",
        "\tdef forward(self, x):\n",
        "\t\treturn self.model(x)\n"
      ]
    },
    {
      "cell_type": "code",
      "execution_count": null,
      "metadata": {
        "colab": {
          "background_save": true,
          "base_uri": "https://localhost:8080/"
        },
        "id": "LVF2j9eH2FWO",
        "outputId": "089d47f4-8c1a-4cf5-e8b4-6ae9e03dae6c"
      },
      "outputs": [
        {
          "name": "stdout",
          "output_type": "stream",
          "text": [
            "Epoch 1/10: Training loss = 1.596427491558787\n",
            "Epoch 2/10: Training loss = 1.3212851246299646\n",
            "Epoch 3/10: Training loss = 1.2143856004985703\n",
            "Epoch 4/10: Training loss = 1.1345886511875845\n",
            "Epoch 5/10: Training loss = 1.0736336726361833\n",
            "Epoch 6/10: Training loss = 1.0288418273791633\n",
            "Epoch 7/10: Training loss = 0.9934260041817374\n",
            "Epoch 8/10: Training loss = 0.9677533202464014\n",
            "Epoch 9/10: Training loss = 0.9465280652351087\n",
            "Epoch 10/10: Training loss = 0.9292455298821335\n"
          ]
        },
        {
          "data": {
            "text/plain": [
              "Text(0, 0.5, 'Training loss')"
            ]
          },
          "execution_count": 4,
          "metadata": {},
          "output_type": "execute_result"
        },
        {
          "data": {
            "image/png": "[encoded data removed]",
            "text/plain": [
              "<Figure size 640x480 with 1 Axes>"
            ]
          },
          "metadata": {},
          "output_type": "display_data"
        }
      ],
      "source": [
        "#Defining the model hyperparameters\n",
        "num_epochs = 10\n",
        "learning_rate = 0.001\n",
        "weight_decay = 0.01\n",
        "criterion = torch.nn.CrossEntropyLoss()\n",
        "model = CNN()\n",
        "optimizer = torch.optim.Adam(model.parameters(), lr=learning_rate, weight_decay=weight_decay)\n",
        "\n",
        "#Training process begins\n",
        "train_loss_list = []\n",
        "for epoch in range(num_epochs):\n",
        "    print(f'Epoch {epoch+1}/{num_epochs}:', end=' ')\n",
        "    train_loss = 0\n",
        "\n",
        "    #Iterating over the training dataset in batches\n",
        "    model.train()\n",
        "    for i, (images, labels) in enumerate(train_loader):\n",
        "\n",
        "        #Extracting images and target labels for the batch being iterated\n",
        "        # No device assignment here\n",
        "        outputs = model(images)\n",
        "        loss = criterion(outputs, labels)\n",
        "\n",
        "        #Updating weights according to calculated loss\n",
        "        optimizer.zero_grad()\n",
        "        loss.backward()\n",
        "        optimizer.step()\n",
        "        train_loss += loss.item()\n",
        "\n",
        "    #Printing loss for each epoch\n",
        "    train_loss_list.append(train_loss / len(train_loader))\n",
        "    print(f\"Training loss = {train_loss_list[-1]}\")\n",
        "\n",
        "#Plotting loss for all epochs\n",
        "plt.plot(range(1, num_epochs+1), train_loss_list)\n",
        "plt.xlabel(\"Number of epochs\")\n",
        "plt.ylabel(\"Training loss\")\n"
      ]
    },
    {
      "cell_type": "code",
      "execution_count": null,
      "metadata": {
        "id": "9PDrFg012IPU"
      },
      "outputs": [],
      "source": [
        "test_acc = 0\n",
        "model.eval()\n",
        "\n",
        "with torch.no_grad():\n",
        "    # Iterating over the test dataset in batches\n",
        "    for i, (images, labels) in enumerate(test_loader):\n",
        "\n",
        "        # No device assignment here\n",
        "        y_true = labels\n",
        "\n",
        "        # Calculating outputs for the batch being iterated\n",
        "        outputs = model(images)\n",
        "\n",
        "        # Calculated prediction labels from model\n",
        "        _, y_pred = torch.max(outputs.data, 1)\n",
        "\n",
        "        # Comparing predicted and true labels\n",
        "        test_acc += (y_pred == y_true).sum().item()\n",
        "\n",
        "    print(f\"Test set accuracy = {100 * test_acc / len(test_dataset)} %\")\n"
      ]
    }
  ],
  "metadata": {
    "colab": {
      "provenance": [],
      "authorship_tag": "ABX9TyO7avZ//Z2eUjgNMX9m050O",
      "include_colab_link": true
    },
    "kernelspec": {
      "display_name": "Python 3",
      "name": "python3"
    },
    "language_info": {
      "name": "python"
    }
  },
  "nbformat": 4,
  "nbformat_minor": 0
}