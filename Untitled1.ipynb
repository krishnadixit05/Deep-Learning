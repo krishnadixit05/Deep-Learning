{
  "cells": [
    {
      "cell_type": "code",
      "execution_count": null,
      "metadata": {
        "id": "bpyMlKySdP3p"
      },
      "outputs": [],
      "source": [
        "import os,cv2,keras\n",
        "import pandas as pd\n",
        "import matplotlib.pyplot as plt\n",
        "import numpy as np\n",
        "import tensorflow as tf"
      ]
    },
    {
      "cell_type": "code",
      "execution_count": null,
      "metadata": {
        "id": "dsKi1Ze2dRUc"
      },
      "outputs": [],
      "source": [
        "ss = cv2.ximgproc.segmentation.createSelectiveSearchSegmentation()"
      ]
    },
    {
      "cell_type": "code",
      "execution_count": null,
      "metadata": {
        "id": "qcefO5ShdcW8"
      },
      "outputs": [],
      "source": [
        "def get_iou(bb1, bb2):\n",
        "    assert bb1['x1'] < bb1['x2']\n",
        "    assert bb1['y1'] < bb1['y2']\n",
        "    assert bb2['x1'] < bb2['x2']\n",
        "    assert bb2['y1'] < bb2['y2']\n",
        "    x_left = max(bb1['x1'], bb2['x1'])\n",
        "    y_top = max(bb1['y1'], bb2['y1'])\n",
        "    x_right = min(bb1['x2'], bb2['x2'])\n",
        "    y_bottom = min(bb1['y2'], bb2['y2'])\n",
        "    if x_right < x_left or y_bottom < y_top:\n",
        "        return 0.0\n",
        "    intersection_area = (x_right - x_left) * (y_bottom - y_top)\n",
        "    bb1_area = (bb1['x2'] - bb1['x1']) * (bb1['y2'] - bb1['y1'])\n",
        "    bb2_area = (bb2['x2'] - bb2['x1']) * (bb2['y2'] - bb2['y1'])\n",
        "    iou = intersection_area / float(bb1_area + bb2_area - intersection_area)\n",
        "    assert iou >= 0.0\n",
        "    assert iou <= 1.0\n",
        "    return iou"
      ]
    },
    {
      "cell_type": "code",
      "execution_count": null,
      "metadata": {
        "id": "-7r-gLsDolWm"
      },
      "outputs": [],
      "source": [
        "import os,cv2,keras\n",
        "import pandas as pd\n",
        "import matplotlib.pyplot as plt\n",
        "import numpy as np\n",
        "import tensorflow as tf\n",
        "\n",
        "# Define the path to the annotation files\n",
        "annot = \"Airplanes_Annotations\"  # Replace \"Airplanes_Annotations\" with the actual path to your annotation files\n",
        "\n",
        "train_images=[]\n",
        "train_labels=[]\n",
        "for e,i in enumerate(os.listdir(annot)):\n",
        "    try:\n",
        "        if i.startswith(\"airplane\"):\n",
        "            filename = i.split(\".\")[0]+\".jpg\"\n",
        "            print(e,filename)\n",
        "            # ... (rest of your code) ..."
      ]
    },
    {
      "cell_type": "code",
      "execution_count": null,
      "metadata": {
        "id": "FeXqPQVsf9HY"
      },
      "outputs": [],
      "source": [
        "train_images=[]\n",
        "train_labels=[]\n",
        "# Define the path to the annotation files\n",
        "annot = '/content/airplane_554.csv' # Replace with the actual path\n",
        "path = '/content/'\n",
        "\n",
        "for e,i in enumerate(os.listdir(annot)):\n",
        "    try:\n",
        "        if i.startswith(\"airplane\"):\n",
        "            filename = i.split(\".\")[0]+\".jpg\"\n",
        "            print(e,filename)\n",
        "            image = cv2.imread(os.path.join(path,filename))\n",
        "            df = pd.read_csv(os.path.join(annot,i))\n",
        "            gtvalues=[]\n",
        "            for row in df.iterrows():\n",
        "                x1 = int(row[1][0].split(\" \")[0])\n",
        "                y1 = int(row[1][0].split(\" \")[1])\n",
        "                x2 = int(row[1][0].split(\" \")[2])\n",
        "                y2 = int(row[1][0].split(\" \")[3])\n",
        "                gtvalues.append({\"x1\":x1,\"x2\":x2,\"y1\":y1,\"y2\":y2})\n",
        "            ss.setBaseImage(image)\n",
        "            ss.switchToSelectiveSearchFast()\n",
        "            ssresults = ss.process()\n",
        "            imout = image.copy()\n",
        "            counter = 0\n",
        "            falsecounter = 0\n",
        "            flag = 0\n",
        "            fflag = 0\n",
        "            bflag = 0\n",
        "            for e,result in enumerate(ssresults):\n",
        "                if e < 2000 and flag == 0:\n",
        "                    for gtval in gtvalues:\n",
        "                        x,y,w,h = result\n",
        "                        iou = get_iou(gtval,{\"x1\":x,\"x2\":x+w,\"y1\":y,\"y2\":y+h})\n",
        "                        if counter < 30:\n",
        "                            if iou > 0.70:\n",
        "                                timage = imout[y:y+h,x:x+w]\n",
        "                                resized = cv2.resize(timage, (224,224), interpolation = cv2.INTER_AREA)\n",
        "                                train_images.append(resized)\n",
        "                                train_labels.append(1)\n",
        "                                counter += 1\n",
        "                        else :\n",
        "                            fflag =1\n",
        "                        if falsecounter <30:\n",
        "                            if iou < 0.3:\n",
        "                                timage = imout[y:y+h,x:x+w]\n",
        "                                resized = cv2.resize(timage, (224,224), interpolation = cv2.INTER_AREA)\n",
        "                                train_images.append(resized)\n",
        "                                train_labels.append(0)\n",
        "                                falsecounter += 1\n",
        "                        else :\n",
        "                            bflag = 1\n",
        "                    if fflag == 1 and bflag == 1:\n",
        "                        print(\"inside\")\n",
        "                        flag = 1\n",
        "    except Exception as e:\n",
        "        print(e)\n",
        "        print(\"error in \"+filename)\n",
        "        continue"
      ]
    },
    {
      "cell_type": "code",
      "execution_count": null,
      "metadata": {
        "id": "GRq7GceRgvqM"
      },
      "outputs": [],
      "source": [
        "train_images=[]\n",
        "train_labels=[]\n",
        "# Define the path to the annotation files\n",
        "# Assuming your annotation file is named 'airplane_554.csv'\n",
        "annot_file = '/content/airplane_554.csv'\n",
        "image_folder = '/content/'  # Replace with the actual path to your images\n",
        "\n",
        "# Read the annotation file into a pandas DataFrame\n",
        "df = pd.read_csv(annot_file)\n",
        "\n",
        "# Iterate through the rows of the DataFrame\n",
        "for index, row in df.iterrows():\n",
        "    try:\n",
        "        filename = row[0].split(\" \")[0] + \".jpg\"  # Assuming the filename is in the first column\n",
        "        print(index, filename)\n",
        "        image_path = os.path.join(image_folder, filename)  # Construct the full path to the image\n",
        "        image = cv2.imread(image_path)\n",
        "\n",
        "        # ... (rest of your code to process the image and extract regions) ...\n",
        "\n",
        "    except Exception as e:\n",
        "        print(e)\n",
        "        print(\"error in \" + filename)\n",
        "        continue"
      ]
    },
    {
      "cell_type": "code",
      "execution_count": null,
      "metadata": {
        "id": "J9Lmmcj1dqpa"
      },
      "outputs": [],
      "source": [
        "X_new = np.array(train_images)\n",
        "y_new = np.array(train_labels)"
      ]
    },
    {
      "cell_type": "code",
      "execution_count": null,
      "metadata": {
        "id": "nMTNrnH0hB0i"
      },
      "outputs": [],
      "source": [
        "from keras.layers import Dense\n",
        "from keras import Model\n",
        "from keras import optimizers\n",
        "from keras.preprocessing.image import ImageDataGenerator\n",
        "from keras.optimizers import Adam\n",
        "from keras.applications.vgg16 import VGG16\n",
        "vggmodel = VGG16(weights='imagenet', include_top=True)"
      ]
    },
    {
      "cell_type": "code",
      "execution_count": null,
      "metadata": {
        "id": "3EDqCmC4hEmg"
      },
      "outputs": [],
      "source": [
        "!unzip Images.zip"
      ]
    },
    {
      "cell_type": "code",
      "execution_count": null,
      "metadata": {
        "colab": {
          "background_save": true,
          "base_uri": "https://localhost:8080/"
        },
        "id": "8-cCFBfDhxah",
        "outputId": "f70dc8d2-3ac0-4fc9-de24-1ceacfb0ad75"
      },
      "outputs": [
        {
          "name": "stdout",
          "output_type": "stream",
          "text": [
            "Archive:  Airplanes_Annotations.zip\n",
            "replace Airplanes_Annotations/airplane_095.csv? [y]es, [n]o, [A]ll, [N]one, [r]ename: "
          ]
        }
      ],
      "source": [
        "!unzip Airplanes_Annotations.zip"
      ]
    },
    {
      "cell_type": "code",
      "execution_count": null,
      "metadata": {
        "id": "yhs-sHkziFMK"
      },
      "outputs": [],
      "source": [
        "import os,cv2,keras\n",
        "import pandas as pd\n",
        "import matplotlib.pyplot as plt\n",
        "import numpy as np\n",
        "import tensorflow as tf"
      ]
    },
    {
      "cell_type": "code",
      "execution_count": null,
      "metadata": {
        "id": "Kl5H8bZjiI7w"
      },
      "outputs": [],
      "source": [
        "path = \"Images\"\n",
        "annot = \"Airplanes_Annotations\""
      ]
    },
    {
      "cell_type": "code",
      "execution_count": null,
      "metadata": {
        "id": "06ODDRXTiLQS"
      },
      "outputs": [],
      "source": [
        "for e,i in enumerate(os.listdir(annot)):\n",
        "    if e < 10:\n",
        "        filename = i.split(\".\")[0]+\".jpg\"\n",
        "        print(filename)\n",
        "        img = cv2.imread(os.path.join(path,filename))\n",
        "        df = pd.read_csv(os.path.join(annot,i))\n",
        "        plt.imshow(img)\n",
        "        for row in df.iterrows():\n",
        "            x1 = int(row[1][0].split(\" \")[0])\n",
        "            y1 = int(row[1][0].split(\" \")[1])\n",
        "            x2 = int(row[1][0].split(\" \")[2])\n",
        "            y2 = int(row[1][0].split(\" \")[3])\n",
        "            cv2.rectangle(img,(x1,y1),(x2,y2),(255,0,0), 2)\n",
        "        plt.figure()\n",
        "        plt.imshow(img)\n",
        "        break"
      ]
    },
    {
      "cell_type": "code",
      "execution_count": null,
      "metadata": {
        "id": "0Vp8-eyOiQF5"
      },
      "outputs": [],
      "source": [
        "cv2.setUseOptimized(True);\n",
        "ss = cv2.ximgproc.segmentation.createSelectiveSearchSegmentation()"
      ]
    },
    {
      "cell_type": "code",
      "execution_count": null,
      "metadata": {
        "id": "uvHsIlzYia8H"
      },
      "outputs": [],
      "source": [
        "im = cv2.imread(os.path.join(path,\"42850.jpg\"))\n",
        "ss.setBaseImage(im)\n",
        "ss.switchToSelectiveSearchFast()\n",
        "rects = ss.process()\n",
        "imOut = im.copy()\n",
        "for i, rect in (enumerate(rects)):\n",
        "    x, y, w, h = rect\n",
        "#     print(x,y,w,h)\n",
        "#     imOut = imOut[x:x+w,y:y+h]\n",
        "    cv2.rectangle(imOut, (x, y), (x+w, y+h), (0, 255, 0), 1, cv2.LINE_AA)\n",
        "# plt.figure()\n",
        "plt.imshow(imOut)"
      ]
    },
    {
      "cell_type": "code",
      "execution_count": null,
      "metadata": {
        "id": "Zp86-8VcifjP"
      },
      "outputs": [],
      "source": [
        "train_images=[]\n",
        "train_labels=[]"
      ]
    },
    {
      "cell_type": "code",
      "execution_count": null,
      "metadata": {
        "id": "fZlgk_4UikX-"
      },
      "outputs": [],
      "source": [
        "def get_iou(bb1, bb2):\n",
        "    assert bb1['x1'] < bb1['x2']\n",
        "    assert bb1['y1'] < bb1['y2']\n",
        "    assert bb2['x1'] < bb2['x2']\n",
        "    assert bb2['y1'] < bb2['y2']\n",
        "\n",
        "    x_left = max(bb1['x1'], bb2['x1'])\n",
        "    y_top = max(bb1['y1'], bb2['y1'])\n",
        "    x_right = min(bb1['x2'], bb2['x2'])\n",
        "    y_bottom = min(bb1['y2'], bb2['y2'])\n",
        "\n",
        "    if x_right < x_left or y_bottom < y_top:\n",
        "        return 0.0\n",
        "\n",
        "    intersection_area = (x_right - x_left) * (y_bottom - y_top)\n",
        "\n",
        "    bb1_area = (bb1['x2'] - bb1['x1']) * (bb1['y2'] - bb1['y1'])\n",
        "    bb2_area = (bb2['x2'] - bb2['x1']) * (bb2['y2'] - bb2['y1'])\n",
        "\n",
        "    iou = intersection_area / float(bb1_area + bb2_area - intersection_area)\n",
        "    assert iou >= 0.0\n",
        "    assert iou <= 1.0\n",
        "    return iou"
      ]
    },
    {
      "cell_type": "code",
      "execution_count": null,
      "metadata": {
        "id": "ktEe9erui0Yp"
      },
      "outputs": [],
      "source": [
        "ss = cv2.ximgproc.segmentation.createSelectiveSearchSegmentation()"
      ]
    },
    {
      "cell_type": "code",
      "execution_count": null,
      "metadata": {
        "id": "TlwBiYw_i2an"
      },
      "outputs": [],
      "source": [
        "for e,i in enumerate(os.listdir(annot)):\n",
        "    try:\n",
        "        if i.startswith(\"airplane\"):\n",
        "            filename = i.split(\".\")[0]+\".jpg\"\n",
        "            print(e,filename)\n",
        "            image = cv2.imread(os.path.join(path,filename))\n",
        "            df = pd.read_csv(os.path.join(annot,i))\n",
        "            gtvalues=[]\n",
        "            for row in df.iterrows():\n",
        "                x1 = int(row[1][0].split(\" \")[0])\n",
        "                y1 = int(row[1][0].split(\" \")[1])\n",
        "                x2 = int(row[1][0].split(\" \")[2])\n",
        "                y2 = int(row[1][0].split(\" \")[3])\n",
        "                gtvalues.append({\"x1\":x1,\"x2\":x2,\"y1\":y1,\"y2\":y2})\n",
        "            ss.setBaseImage(image)\n",
        "            ss.switchToSelectiveSearchFast()\n",
        "            ssresults = ss.process()\n",
        "            imout = image.copy()\n",
        "            counter = 0\n",
        "            falsecounter = 0\n",
        "            flag = 0\n",
        "            fflag = 0\n",
        "            bflag = 0\n",
        "            for e,result in enumerate(ssresults):\n",
        "                if e < 2000 and flag == 0:\n",
        "                    for gtval in gtvalues:\n",
        "                        x,y,w,h = result\n",
        "                        iou = get_iou(gtval,{\"x1\":x,\"x2\":x+w,\"y1\":y,\"y2\":y+h})\n",
        "                        if counter < 30:\n",
        "                            if iou > 0.70:\n",
        "                                timage = imout[y:y+h,x:x+w]\n",
        "                                resized = cv2.resize(timage, (224,224), interpolation = cv2.INTER_AREA)\n",
        "                                train_images.append(resized)\n",
        "                                train_labels.append(1)\n",
        "                                counter += 1\n",
        "                        else :\n",
        "                            fflag =1\n",
        "                        if falsecounter <30:\n",
        "                            if iou < 0.3:\n",
        "                                timage = imout[y:y+h,x:x+w]\n",
        "                                resized = cv2.resize(timage, (224,224), interpolation = cv2.INTER_AREA)\n",
        "                                train_images.append(resized)\n",
        "                                train_labels.append(0)\n",
        "                                falsecounter += 1\n",
        "                        else :\n",
        "                            bflag = 1\n",
        "                    if fflag == 1 and bflag == 1:\n",
        "                        print(\"inside\")\n",
        "                        flag = 1\n",
        "    except Exception as e:\n",
        "        print(e)\n",
        "        print(\"error in \"+filename)\n",
        "        continue"
      ]
    },
    {
      "cell_type": "code",
      "execution_count": null,
      "metadata": {
        "id": "0yBM6YI2i45l"
      },
      "outputs": [],
      "source": [
        "X_new = np.array(train_images)\n",
        "y_new = np.array(train_labels)"
      ]
    },
    {
      "cell_type": "code",
      "execution_count": null,
      "metadata": {
        "id": "tcGegt9Ujp8v"
      },
      "outputs": [],
      "source": [
        "X_new.shape"
      ]
    },
    {
      "cell_type": "code",
      "execution_count": null,
      "metadata": {
        "id": "S22Z5AyNjvxm"
      },
      "outputs": [],
      "source": [
        "from tensorflow.keras.layers import Dense\n",
        "from tensorflow.keras import Model\n",
        "from tensorflow.keras import optimizers\n",
        "from tensorflow.keras.preprocessing.image import ImageDataGenerator\n",
        "from tensorflow.keras.applications.vgg16importVGG16"
      ]
    },
    {
      "cell_type": "code",
      "execution_count": null,
      "metadata": {
        "id": "GjjOl1LznitS"
      },
      "outputs": [],
      "source": [
        "from tensorflow.keras.layers import Dense\n",
        "from tensorflow.keras import Model\n",
        "from tensorflow.keras import optimizers\n",
        "from tensorflow.keras.preprocessing.image import ImageDataGenerator\n",
        "from tensorflow.keras.applications.vgg16 import VGG16"
      ]
    },
    {
      "cell_type": "code",
      "execution_count": null,
      "metadata": {
        "id": "aZWntjblj1nf"
      },
      "outputs": [],
      "source": [
        "vggmodel = VGG16(weights='imagenet', include_top=True)\n",
        "vggmodel.summary()"
      ]
    },
    {
      "cell_type": "code",
      "execution_count": null,
      "metadata": {
        "id": "cQyl8q_oj1ZQ"
      },
      "outputs": [],
      "source": [
        "for layers in (vggmodel.layers)[:15]:\n",
        "    print(layers)\n",
        "    layers.trainable = False"
      ]
    },
    {
      "cell_type": "code",
      "execution_count": null,
      "metadata": {
        "id": "gaCgku_-j1OL"
      },
      "outputs": [],
      "source": [
        "X= vggmodel.layers[-2].output"
      ]
    },
    {
      "cell_type": "code",
      "execution_count": null,
      "metadata": {
        "id": "Y-4ANRLjj8cV"
      },
      "outputs": [],
      "source": [
        "predictions = Dense(2, activation=\"softmax\")(X)"
      ]
    },
    {
      "cell_type": "code",
      "execution_count": null,
      "metadata": {
        "id": "VTwvXu0FkepS"
      },
      "outputs": [],
      "source": [
        "model_final = Model(inputs = vggmodel.input, outputs=predictions)"
      ]
    },
    {
      "cell_type": "code",
      "execution_count": null,
      "metadata": {
        "id": "7j2SgqCOkiUE"
      },
      "outputs": [],
      "source": [
        "from keras.optimizers import Adam\n",
        "opt = Adam(learning_rate=0.0001)"
      ]
    },
    {
      "cell_type": "code",
      "execution_count": null,
      "metadata": {
        "id": "2GC-2GqVkkjb"
      },
      "outputs": [],
      "source": [
        "model_final.compile(loss = keras.losses.categorical_crossentropy, optimizer = opt, metrics=[\"accuracy\"])"
      ]
    },
    {
      "cell_type": "code",
      "execution_count": null,
      "metadata": {
        "id": "_Um2CSGYkmNi"
      },
      "outputs": [],
      "source": [
        "model_final.summary()"
      ]
    },
    {
      "cell_type": "code",
      "execution_count": null,
      "metadata": {
        "id": "5pPCYp5Pko_F"
      },
      "outputs": [],
      "source": [
        "from sklearn.model_selection import train_test_split\n",
        "from sklearn.preprocessing import LabelBinarizer"
      ]
    },
    {
      "cell_type": "code",
      "execution_count": null,
      "metadata": {
        "id": "fGBjyc3JkqxK"
      },
      "outputs": [],
      "source": [
        "class MyLabelBinarizer(LabelBinarizer):\n",
        "    def transform(self, y):\n",
        "        Y = super().transform(y)\n",
        "        if self.y_type_ == 'binary':\n",
        "            return np.hstack((Y, 1-Y))\n",
        "        else:\n",
        "            return Y\n",
        "    def inverse_transform(self, Y, threshold=None):\n",
        "        if self.y_type_ == 'binary':\n",
        "            return super().inverse_transform(Y[:, 0], threshold)\n",
        "        else:\n",
        "            return super().inverse_transform(Y, threshold)"
      ]
    },
    {
      "cell_type": "code",
      "execution_count": null,
      "metadata": {
        "id": "g9XCsummkrr7"
      },
      "outputs": [],
      "source": [
        "lenc = MyLabelBinarizer()\n",
        "Y =  lenc.fit_transform(y_new)"
      ]
    },
    {
      "cell_type": "code",
      "execution_count": null,
      "metadata": {
        "id": "hiC9CPPZkvDP"
      },
      "outputs": [],
      "source": [
        "X_train, X_test , y_train, y_test = train_test_split(X_new,Y,test_size=0.10)"
      ]
    },
    {
      "cell_type": "code",
      "execution_count": null,
      "metadata": {
        "id": "_rqSQGUnkyY8"
      },
      "outputs": [],
      "source": [
        "print(X_train.shape,X_test.shape,y_train.shape,y_test.shape)"
      ]
    },
    {
      "cell_type": "code",
      "execution_count": null,
      "metadata": {
        "id": "1_aTRe50oCc6"
      },
      "outputs": [],
      "source": []
    }
  ],
  "metadata": {
    "colab": {
      "provenance": []
    },
    "kernelspec": {
      "display_name": "Python 3",
      "name": "python3"
    },
    "language_info": {
      "name": "python"
    }
  },
  "nbformat": 4,
  "nbformat_minor": 0
}